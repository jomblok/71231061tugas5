{
  "nbformat": 4,
  "nbformat_minor": 0,
  "metadata": {
    "colab": {
      "provenance": []
    },
    "kernelspec": {
      "name": "python3",
      "display_name": "Python 3"
    },
    "language_info": {
      "name": "python"
    }
  },
  "cells": [
    {
      "cell_type": "markdown",
      "source": [
        "SOAL 1"
      ],
      "metadata": {
        "id": "HNNxEAokjuoe"
      }
    },
    {
      "cell_type": "code",
      "source": [
        "def perkalian(angka,angka2):\n",
        "    hasil = 0\n",
        "    proses = f'{angka}'\n",
        "    for i in range (angka2 - 1):\n",
        "        hasil = (i+1+1) * (angka)\n",
        "        proses +=f'+{angka}'\n",
        "    return (f\"{angka} x {angka2} = {proses} = {hasil}\")\n",
        "#     print [f'{angka}' \"*\" f'{angka2}' \"=\" f'{hasil}']\n",
        "c = perkalian(2,3)\n",
        "print (c)"
      ],
      "metadata": {
        "colab": {
          "base_uri": "https://localhost:8080/"
        },
        "id": "0zuw_GYcj0fr",
        "outputId": "2b320d4f-52c1-4bfa-83c9-51a68251efcf"
      },
      "execution_count": 1,
      "outputs": [
        {
          "output_type": "stream",
          "name": "stdout",
          "text": [
            "2 x 3 = 2+2+2 = 6\n"
          ]
        }
      ]
    },
    {
      "cell_type": "markdown",
      "source": [
        "SOAL 2"
      ],
      "metadata": {
        "id": "_0tzwFqrj4dz"
      }
    },
    {
      "cell_type": "code",
      "source": [
        "def bilganjil (bawah,atas):\n",
        " if bawah < atas:\n",
        "    for i in range(bawah,atas +1):\n",
        "        if i % 2 != 0:\n",
        "            print(i, end=\" \")\n",
        " elif  bawah > atas:\n",
        "    for i in range(bawah,atas - 1, -1 ):\n",
        "        if i % 2 != 0:\n",
        "            print(i, end=\" \")\n",
        "\n",
        "# bilganjil(1 , 10)\n",
        "bilganjil(97 , 82 )"
      ],
      "metadata": {
        "colab": {
          "base_uri": "https://localhost:8080/"
        },
        "id": "wTrtM1d_j5dK",
        "outputId": "83136d7b-49d2-4b3f-97d8-2390f5b45765"
      },
      "execution_count": 2,
      "outputs": [
        {
          "output_type": "stream",
          "name": "stdout",
          "text": [
            "97 95 93 91 89 87 85 83 "
          ]
        }
      ]
    },
    {
      "cell_type": "markdown",
      "source": [
        "SOAL 3"
      ],
      "metadata": {
        "id": "EG_Trgg8kD2R"
      }
    },
    {
      "cell_type": "code",
      "source": [
        "TOTALBOBOT = 0\n",
        "mk = int ( input (\"jumlah mata kuliah :\"))\n",
        "for i in range (mk):\n",
        "    nilai_mk = str(input(f'nilai mk {i+ 1}:'))\n",
        "    if nilai_mk == 'A':\n",
        "            bobot_nilai = 4\n",
        "    elif nilai_mk == 'B':\n",
        "            bobot_nilai = 3\n",
        "    elif nilai_mk == 'C':\n",
        "            bobot_nilai = 2\n",
        "    elif nilai_mk == 'D':\n",
        "            bobot_nilai = 1\n",
        "    else:\n",
        "        print(f'Input nilai mata kuliah {i + 1} tidak valid.')\n",
        "    TOTALBOBOT += bobot_nilai\n",
        "\n",
        "hasil_ips = TOTALBOBOT / mk\n",
        "print (\"nilai ips anda saat ini adalah : \" ,hasil_ips)\n"
      ],
      "metadata": {
        "colab": {
          "base_uri": "https://localhost:8080/"
        },
        "id": "cXGMGIu8kE-j",
        "outputId": "b13d624a-2875-4b6b-c52f-fbac6fd5abcd"
      },
      "execution_count": 3,
      "outputs": [
        {
          "output_type": "stream",
          "name": "stdout",
          "text": [
            "jumlah mata kuliah :6\n",
            "nilai mk 1:A\n",
            "nilai mk 2:A\n",
            "nilai mk 3:A\n",
            "nilai mk 4:C\n",
            "nilai mk 5:C\n",
            "nilai mk 6:C\n",
            "nilai ips anda saat ini adalah :  3.0\n"
          ]
        }
      ]
    }
  ]
}